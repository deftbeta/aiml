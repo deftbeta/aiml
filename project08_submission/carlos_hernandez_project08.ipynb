{
  "nbformat": 4,
  "nbformat_minor": 0,
  "metadata": {
    "colab": {
      "name": "carlos_hernandez_project08.ipynb",
      "provenance": [],
      "collapsed_sections": []
    },
    "kernelspec": {
      "name": "python3",
      "display_name": "Python 3"
    }
  },
  "cells": [
    {
      "cell_type": "markdown",
      "metadata": {
        "id": "fG03OXYQVvZV"
      },
      "source": [
        "# Data Description\n",
        "\n",
        "A sentiment analysis job about the problems of each major U.S. airline. Twitter data was scraped from February of 2015 and contributors were asked to first classify positive, negative, and neutral tweets, followed by categorizing negative reasons (such as \"late flight\" or \"rude service\")."
      ]
    },
    {
      "cell_type": "markdown",
      "metadata": {
        "id": "H8qVPB0a2bFk"
      },
      "source": [
        "# Imports"
      ]
    },
    {
      "cell_type": "code",
      "metadata": {
        "colab": {
          "base_uri": "https://localhost:8080/"
        },
        "id": "QPve5LfXeSdz",
        "outputId": "4dac8b8c-8f08-48cf-a902-b979d93f3dc2"
      },
      "source": [
        "import numpy as np\n",
        "import pandas as pd\n",
        "import matplotlib.pyplot as plt\n",
        "import seaborn as sns\n",
        "%matplotlib inline\n",
        "import datetime\n",
        "import re, string, unicodedata                          # Import Regex, string and unicodedata.\n",
        "from bs4 import BeautifulSoup                           # Import BeautifulSoup.\n",
        "\n",
        "from sklearn.feature_extraction.text import TfidfVectorizer\n",
        "from sklearn import metrics\n",
        "from sklearn.model_selection import train_test_split\n",
        "from sklearn.metrics import accuracy_score, classification_report\n",
        "from sklearn.tree import DecisionTreeClassifier\n",
        "from sklearn.naive_bayes import MultinomialNB\n",
        "from sklearn.ensemble import RandomForestClassifier\n",
        "from sklearn.neighbors import KNeighborsClassifier\n",
        "from sklearn.linear_model import LogisticRegression\n",
        "from sklearn.feature_extraction.text import TfidfVectorizer\n",
        "import warnings\n",
        "warnings.filterwarnings(\"ignore\")\n",
        "\n",
        "!pip install contractions\n",
        "import contractions                                     # Import contractions library.\n",
        "import nltk                                             # Import Natural Language Tool-Kit.\n",
        "nltk.download('stopwords')                              # Download Stopwords.\n",
        "nltk.download('punkt')\n",
        "nltk.download('wordnet')\n",
        "from nltk.corpus import stopwords                       # Import stopwords.\n",
        "from nltk.tokenize import word_tokenize, sent_tokenize  # Import Tokenizer.\n",
        "from nltk.stem.wordnet import WordNetLemmatizer         # Import Lemmatizer.\n"
      ],
      "execution_count": 1,
      "outputs": [
        {
          "output_type": "stream",
          "text": [
            "Requirement already satisfied: contractions in /usr/local/lib/python3.6/dist-packages (0.0.43)\n",
            "Requirement already satisfied: textsearch in /usr/local/lib/python3.6/dist-packages (from contractions) (0.0.17)\n",
            "Requirement already satisfied: Unidecode in /usr/local/lib/python3.6/dist-packages (from textsearch->contractions) (1.1.1)\n",
            "Requirement already satisfied: pyahocorasick in /usr/local/lib/python3.6/dist-packages (from textsearch->contractions) (1.4.0)\n",
            "[nltk_data] Downloading package stopwords to /root/nltk_data...\n",
            "[nltk_data]   Package stopwords is already up-to-date!\n",
            "[nltk_data] Downloading package punkt to /root/nltk_data...\n",
            "[nltk_data]   Package punkt is already up-to-date!\n",
            "[nltk_data] Downloading package wordnet to /root/nltk_data...\n",
            "[nltk_data]   Package wordnet is already up-to-date!\n"
          ],
          "name": "stdout"
        }
      ]
    },
    {
      "cell_type": "markdown",
      "metadata": {
        "id": "-f2W7po82eYO"
      },
      "source": [
        "# Get Data"
      ]
    },
    {
      "cell_type": "code",
      "metadata": {
        "colab": {
          "base_uri": "https://localhost:8080/"
        },
        "id": "Has23t27k34_",
        "outputId": "63311c01-2e88-4beb-da62-d19249e00ec1"
      },
      "source": [
        "from google.colab import drive\n",
        "drive.mount('/gdrive')\n",
        "%cd /gdrive"
      ],
      "execution_count": 2,
      "outputs": [
        {
          "output_type": "stream",
          "text": [
            "Drive already mounted at /gdrive; to attempt to forcibly remount, call drive.mount(\"/gdrive\", force_remount=True).\n",
            "/gdrive\n"
          ],
          "name": "stdout"
        }
      ]
    },
    {
      "cell_type": "code",
      "metadata": {
        "id": "eGTwkDWseg4t"
      },
      "source": [
        "df = pd.read_csv(\"/gdrive/MyDrive/Colab Notebooks/Tweets.csv\")"
      ],
      "execution_count": 3,
      "outputs": []
    },
    {
      "cell_type": "code",
      "metadata": {
        "colab": {
          "base_uri": "https://localhost:8080/"
        },
        "id": "TZVk2er1pWgu",
        "outputId": "3444d9fa-394e-42a3-c6e0-95af8a03d0ad"
      },
      "source": [
        "df.shape"
      ],
      "execution_count": 4,
      "outputs": [
        {
          "output_type": "execute_result",
          "data": {
            "text/plain": [
              "(14640, 15)"
            ]
          },
          "metadata": {
            "tags": []
          },
          "execution_count": 4
        }
      ]
    },
    {
      "cell_type": "code",
      "metadata": {
        "colab": {
          "base_uri": "https://localhost:8080/"
        },
        "id": "muFhSf1upwMb",
        "outputId": "8f55d47e-fd45-48ce-aec5-0d43b8fad7ab"
      },
      "source": [
        "df.columns"
      ],
      "execution_count": 5,
      "outputs": [
        {
          "output_type": "execute_result",
          "data": {
            "text/plain": [
              "Index(['tweet_id', 'airline_sentiment', 'airline_sentiment_confidence',\n",
              "       'negativereason', 'negativereason_confidence', 'airline',\n",
              "       'airline_sentiment_gold', 'name', 'negativereason_gold',\n",
              "       'retweet_count', 'text', 'tweet_coord', 'tweet_created',\n",
              "       'tweet_location', 'user_timezone'],\n",
              "      dtype='object')"
            ]
          },
          "metadata": {
            "tags": []
          },
          "execution_count": 5
        }
      ]
    },
    {
      "cell_type": "code",
      "metadata": {
        "colab": {
          "base_uri": "https://localhost:8080/"
        },
        "id": "ncBD528VpW2J",
        "outputId": "6864053f-2ed4-47fd-b457-6e5ac9fd9eb4"
      },
      "source": [
        "df.head"
      ],
      "execution_count": 6,
      "outputs": [
        {
          "output_type": "execute_result",
          "data": {
            "text/plain": [
              "<bound method NDFrame.head of                  tweet_id  ...               user_timezone\n",
              "0      570306133677760513  ...  Eastern Time (US & Canada)\n",
              "1      570301130888122368  ...  Pacific Time (US & Canada)\n",
              "2      570301083672813571  ...  Central Time (US & Canada)\n",
              "3      570301031407624196  ...  Pacific Time (US & Canada)\n",
              "4      570300817074462722  ...  Pacific Time (US & Canada)\n",
              "...                   ...  ...                         ...\n",
              "14635  569587686496825344  ...                         NaN\n",
              "14636  569587371693355008  ...                         NaN\n",
              "14637  569587242672398336  ...                         NaN\n",
              "14638  569587188687634433  ...  Eastern Time (US & Canada)\n",
              "14639  569587140490866689  ...                         NaN\n",
              "\n",
              "[14640 rows x 15 columns]>"
            ]
          },
          "metadata": {
            "tags": []
          },
          "execution_count": 6
        }
      ]
    },
    {
      "cell_type": "markdown",
      "metadata": {
        "id": "c28r3ncv2idn"
      },
      "source": [
        "# Explore Data"
      ]
    },
    {
      "cell_type": "code",
      "metadata": {
        "colab": {
          "base_uri": "https://localhost:8080/"
        },
        "id": "uHIMlLSXqRAT",
        "outputId": "8902b7f8-1dd7-4786-ec65-53c59fcb2ab1"
      },
      "source": [
        "# check for nonunique values\n",
        "nonunique_cols = [featr for featr in df.columns if len(df[featr].unique()) <2]\n",
        "nonunique_cols"
      ],
      "execution_count": 7,
      "outputs": [
        {
          "output_type": "execute_result",
          "data": {
            "text/plain": [
              "[]"
            ]
          },
          "metadata": {
            "tags": []
          },
          "execution_count": 7
        }
      ]
    },
    {
      "cell_type": "markdown",
      "metadata": {
        "id": "h_clDE1-zFGf"
      },
      "source": [
        "All unique / no duplicates to address\n"
      ]
    },
    {
      "cell_type": "code",
      "metadata": {
        "colab": {
          "base_uri": "https://localhost:8080/"
        },
        "id": "hqtQo-aBqRKa",
        "outputId": "8fd87142-cbd3-466c-f1f8-7e3ac4a0b631"
      },
      "source": [
        "# check for missing values\n",
        "100*df.isna().sum()/len(df)"
      ],
      "execution_count": 8,
      "outputs": [
        {
          "output_type": "execute_result",
          "data": {
            "text/plain": [
              "tweet_id                         0.000000\n",
              "airline_sentiment                0.000000\n",
              "airline_sentiment_confidence     0.000000\n",
              "negativereason                  37.308743\n",
              "negativereason_confidence       28.128415\n",
              "airline                          0.000000\n",
              "airline_sentiment_gold          99.726776\n",
              "name                             0.000000\n",
              "negativereason_gold             99.781421\n",
              "retweet_count                    0.000000\n",
              "text                             0.000000\n",
              "tweet_coord                     93.039617\n",
              "tweet_created                    0.000000\n",
              "tweet_location                  32.329235\n",
              "user_timezone                   32.923497\n",
              "dtype: float64"
            ]
          },
          "metadata": {
            "tags": []
          },
          "execution_count": 8
        }
      ]
    },
    {
      "cell_type": "markdown",
      "metadata": {
        "id": "Eimzg_TE3tx8"
      },
      "source": [
        "airline sentiment and text columns have zero missing values"
      ]
    },
    {
      "cell_type": "code",
      "metadata": {
        "id": "d82-5ptmqRTe"
      },
      "source": [
        "# drop all other columns except “text” and “airline_sentiment”.\n",
        "# col_drop = ['airline_sentiment_gold', 'negativereason_gold', 'tweet_coord']\n",
        "col_drop = ['tweet_id', 'airline_sentiment_confidence',\n",
        "       'negativereason', 'negativereason_confidence', 'airline',\n",
        "       'airline_sentiment_gold', 'name', 'negativereason_gold',\n",
        "       'retweet_count', 'tweet_coord', 'tweet_created',\n",
        "       'tweet_location', 'user_timezone']"
      ],
      "execution_count": 9,
      "outputs": []
    },
    {
      "cell_type": "code",
      "metadata": {
        "colab": {
          "base_uri": "https://localhost:8080/"
        },
        "id": "iUKjIwsfyaJ-",
        "outputId": "a356018c-1d85-493b-c486-fddcf3f4e631"
      },
      "source": [
        "print(df.columns)\n",
        "df=df.drop(labels=col_drop, axis='columns')\n",
        "df.columns"
      ],
      "execution_count": 10,
      "outputs": [
        {
          "output_type": "stream",
          "text": [
            "Index(['tweet_id', 'airline_sentiment', 'airline_sentiment_confidence',\n",
            "       'negativereason', 'negativereason_confidence', 'airline',\n",
            "       'airline_sentiment_gold', 'name', 'negativereason_gold',\n",
            "       'retweet_count', 'text', 'tweet_coord', 'tweet_created',\n",
            "       'tweet_location', 'user_timezone'],\n",
            "      dtype='object')\n"
          ],
          "name": "stdout"
        },
        {
          "output_type": "execute_result",
          "data": {
            "text/plain": [
              "Index(['airline_sentiment', 'text'], dtype='object')"
            ]
          },
          "metadata": {
            "tags": []
          },
          "execution_count": 10
        }
      ]
    },
    {
      "cell_type": "code",
      "metadata": {
        "colab": {
          "base_uri": "https://localhost:8080/"
        },
        "id": "usOGlkpc0Ut8",
        "outputId": "50acd459-1b8d-4bec-8d74-5458059772c0"
      },
      "source": [
        "df.head"
      ],
      "execution_count": 11,
      "outputs": [
        {
          "output_type": "execute_result",
          "data": {
            "text/plain": [
              "<bound method NDFrame.head of       airline_sentiment                                               text\n",
              "0               neutral                @VirginAmerica What @dhepburn said.\n",
              "1              positive  @VirginAmerica plus you've added commercials t...\n",
              "2               neutral  @VirginAmerica I didn't today... Must mean I n...\n",
              "3              negative  @VirginAmerica it's really aggressive to blast...\n",
              "4              negative  @VirginAmerica and it's a really big bad thing...\n",
              "...                 ...                                                ...\n",
              "14635          positive  @AmericanAir thank you we got on a different f...\n",
              "14636          negative  @AmericanAir leaving over 20 minutes Late Flig...\n",
              "14637           neutral  @AmericanAir Please bring American Airlines to...\n",
              "14638          negative  @AmericanAir you have my money, you change my ...\n",
              "14639           neutral  @AmericanAir we have 8 ppl so we need 2 know h...\n",
              "\n",
              "[14640 rows x 2 columns]>"
            ]
          },
          "metadata": {
            "tags": []
          },
          "execution_count": 11
        }
      ]
    },
    {
      "cell_type": "code",
      "metadata": {
        "colab": {
          "base_uri": "https://localhost:8080/"
        },
        "id": "Ya8TZnVk1rZ3",
        "outputId": "8b2577cf-0379-42c7-9e53-d9dd32bf58af"
      },
      "source": [
        "df.shape"
      ],
      "execution_count": 12,
      "outputs": [
        {
          "output_type": "execute_result",
          "data": {
            "text/plain": [
              "(14640, 2)"
            ]
          },
          "metadata": {
            "tags": []
          },
          "execution_count": 12
        }
      ]
    },
    {
      "cell_type": "code",
      "metadata": {
        "colab": {
          "base_uri": "https://localhost:8080/",
          "height": 204
        },
        "id": "Y9FumATo39fc",
        "outputId": "1e9c3aa6-a8ee-4981-e71d-e9a9fc854f43"
      },
      "source": [
        "pd.set_option('display.max_colwidth', None)\n",
        "df.head()"
      ],
      "execution_count": 13,
      "outputs": [
        {
          "output_type": "execute_result",
          "data": {
            "text/html": [
              "<div>\n",
              "<style scoped>\n",
              "    .dataframe tbody tr th:only-of-type {\n",
              "        vertical-align: middle;\n",
              "    }\n",
              "\n",
              "    .dataframe tbody tr th {\n",
              "        vertical-align: top;\n",
              "    }\n",
              "\n",
              "    .dataframe thead th {\n",
              "        text-align: right;\n",
              "    }\n",
              "</style>\n",
              "<table border=\"1\" class=\"dataframe\">\n",
              "  <thead>\n",
              "    <tr style=\"text-align: right;\">\n",
              "      <th></th>\n",
              "      <th>airline_sentiment</th>\n",
              "      <th>text</th>\n",
              "    </tr>\n",
              "  </thead>\n",
              "  <tbody>\n",
              "    <tr>\n",
              "      <th>0</th>\n",
              "      <td>neutral</td>\n",
              "      <td>@VirginAmerica What @dhepburn said.</td>\n",
              "    </tr>\n",
              "    <tr>\n",
              "      <th>1</th>\n",
              "      <td>positive</td>\n",
              "      <td>@VirginAmerica plus you've added commercials to the experience... tacky.</td>\n",
              "    </tr>\n",
              "    <tr>\n",
              "      <th>2</th>\n",
              "      <td>neutral</td>\n",
              "      <td>@VirginAmerica I didn't today... Must mean I need to take another trip!</td>\n",
              "    </tr>\n",
              "    <tr>\n",
              "      <th>3</th>\n",
              "      <td>negative</td>\n",
              "      <td>@VirginAmerica it's really aggressive to blast obnoxious \"entertainment\" in your guests' faces &amp;amp; they have little recourse</td>\n",
              "    </tr>\n",
              "    <tr>\n",
              "      <th>4</th>\n",
              "      <td>negative</td>\n",
              "      <td>@VirginAmerica and it's a really big bad thing about it</td>\n",
              "    </tr>\n",
              "  </tbody>\n",
              "</table>\n",
              "</div>"
            ],
            "text/plain": [
              "  airline_sentiment                                                                                                                            text\n",
              "0           neutral                                                                                             @VirginAmerica What @dhepburn said.\n",
              "1          positive                                                        @VirginAmerica plus you've added commercials to the experience... tacky.\n",
              "2           neutral                                                         @VirginAmerica I didn't today... Must mean I need to take another trip!\n",
              "3          negative  @VirginAmerica it's really aggressive to blast obnoxious \"entertainment\" in your guests' faces &amp; they have little recourse\n",
              "4          negative                                                                         @VirginAmerica and it's a really big bad thing about it"
            ]
          },
          "metadata": {
            "tags": []
          },
          "execution_count": 13
        }
      ]
    },
    {
      "cell_type": "code",
      "metadata": {
        "colab": {
          "base_uri": "https://localhost:8080/"
        },
        "id": "SQSGIgcg4Lnm",
        "outputId": "7bf46677-14b6-4acb-b970-4de1c8402cc7"
      },
      "source": [
        "df['airline_sentiment'].value_counts()"
      ],
      "execution_count": 14,
      "outputs": [
        {
          "output_type": "execute_result",
          "data": {
            "text/plain": [
              "negative    9178\n",
              "neutral     3099\n",
              "positive    2363\n",
              "Name: airline_sentiment, dtype: int64"
            ]
          },
          "metadata": {
            "tags": []
          },
          "execution_count": 14
        }
      ]
    },
    {
      "cell_type": "code",
      "metadata": {
        "id": "wKHo-Y6L5HXw"
      },
      "source": [
        "def PieChart(t_df):\n",
        "    Lst = 100*t_df.value_counts()/len(t_df)\n",
        "    \n",
        "    # set data for pie chart\n",
        "    labels = t_df.value_counts().index.values\n",
        "    sizes =  Lst \n",
        "    \n",
        "    # set labels\n",
        "    fig1, ax1 = plt.subplots()\n",
        "    ax1.pie(sizes, labels=labels, autopct='%1.2f%%', shadow=True, startangle=90)\n",
        "    ax1.axis('equal')  # equal aspect ratio to ensure pie is drawn as a circle.\n",
        "    plt.show()"
      ],
      "execution_count": 15,
      "outputs": []
    },
    {
      "cell_type": "code",
      "metadata": {
        "colab": {
          "base_uri": "https://localhost:8080/",
          "height": 248
        },
        "id": "F2KUWvFO5hRB",
        "outputId": "54031de5-2a2d-4669-b46a-d105cf7a3f67"
      },
      "source": [
        "PieChart(df.airline_sentiment)"
      ],
      "execution_count": 16,
      "outputs": [
        {
          "output_type": "display_data",
          "data": {
            "image/png": "[encoded data removed]",
            "text/plain": [
              "<Figure size 432x288 with 1 Axes>"
            ]
          },
          "metadata": {
            "tags": []
          }
        }
      ]
    },
    {
      "cell_type": "markdown",
      "metadata": {
        "id": "kE5EivsB2VH8"
      },
      "source": [
        "# Pre-Processing"
      ]
    },
    {
      "cell_type": "code",
      "metadata": {
        "colab": {
          "base_uri": "https://localhost:8080/",
          "height": 204
        },
        "id": "EPLfOI101xif",
        "outputId": "de0b5852-c7bd-4889-fe44-0c9301ca41d5"
      },
      "source": [
        "# remove tags\n",
        "def strip_html(text):\n",
        "    soup = BeautifulSoup(text, \"html.parser\")\n",
        "    return soup.get_text()\n",
        "\n",
        "df['text'] = df['text'].apply(lambda x: strip_html(x))\n",
        "df.head()\n"
      ],
      "execution_count": 17,
      "outputs": [
        {
          "output_type": "execute_result",
          "data": {
            "text/html": [
              "<div>\n",
              "<style scoped>\n",
              "    .dataframe tbody tr th:only-of-type {\n",
              "        vertical-align: middle;\n",
              "    }\n",
              "\n",
              "    .dataframe tbody tr th {\n",
              "        vertical-align: top;\n",
              "    }\n",
              "\n",
              "    .dataframe thead th {\n",
              "        text-align: right;\n",
              "    }\n",
              "</style>\n",
              "<table border=\"1\" class=\"dataframe\">\n",
              "  <thead>\n",
              "    <tr style=\"text-align: right;\">\n",
              "      <th></th>\n",
              "      <th>airline_sentiment</th>\n",
              "      <th>text</th>\n",
              "    </tr>\n",
              "  </thead>\n",
              "  <tbody>\n",
              "    <tr>\n",
              "      <th>0</th>\n",
              "      <td>neutral</td>\n",
              "      <td>@VirginAmerica What @dhepburn said.</td>\n",
              "    </tr>\n",
              "    <tr>\n",
              "      <th>1</th>\n",
              "      <td>positive</td>\n",
              "      <td>@VirginAmerica plus you've added commercials to the experience... tacky.</td>\n",
              "    </tr>\n",
              "    <tr>\n",
              "      <th>2</th>\n",
              "      <td>neutral</td>\n",
              "      <td>@VirginAmerica I didn't today... Must mean I need to take another trip!</td>\n",
              "    </tr>\n",
              "    <tr>\n",
              "      <th>3</th>\n",
              "      <td>negative</td>\n",
              "      <td>@VirginAmerica it's really aggressive to blast obnoxious \"entertainment\" in your guests' faces &amp; they have little recourse</td>\n",
              "    </tr>\n",
              "    <tr>\n",
              "      <th>4</th>\n",
              "      <td>negative</td>\n",
              "      <td>@VirginAmerica and it's a really big bad thing about it</td>\n",
              "    </tr>\n",
              "  </tbody>\n",
              "</table>\n",
              "</div>"
            ],
            "text/plain": [
              "  airline_sentiment                                                                                                                        text\n",
              "0           neutral                                                                                         @VirginAmerica What @dhepburn said.\n",
              "1          positive                                                    @VirginAmerica plus you've added commercials to the experience... tacky.\n",
              "2           neutral                                                     @VirginAmerica I didn't today... Must mean I need to take another trip!\n",
              "3          negative  @VirginAmerica it's really aggressive to blast obnoxious \"entertainment\" in your guests' faces & they have little recourse\n",
              "4          negative                                                                     @VirginAmerica and it's a really big bad thing about it"
            ]
          },
          "metadata": {
            "tags": []
          },
          "execution_count": 17
        }
      ]
    },
    {
      "cell_type": "code",
      "metadata": {
        "colab": {
          "base_uri": "https://localhost:8080/"
        },
        "id": "gEHd-bEg6tzb",
        "outputId": "fbc596e4-acbb-4118-e5d6-98acb2800805"
      },
      "source": [
        "# language check\n",
        "!pip install langdetect\n",
        "from langdetect import detect\n",
        "\n",
        "df['Language'] = \"\"\n",
        "\n",
        "for i, desc in enumerate(df['text']):\n",
        "    try:\n",
        "        df['Language'][i] = detect(desc)\n",
        "    except:\n",
        "        df['Language'][i] = 'unknown'"
      ],
      "execution_count": 18,
      "outputs": [
        {
          "output_type": "stream",
          "text": [
            "Requirement already satisfied: langdetect in /usr/local/lib/python3.6/dist-packages (1.0.8)\n",
            "Requirement already satisfied: six in /usr/local/lib/python3.6/dist-packages (from langdetect) (1.15.0)\n"
          ],
          "name": "stdout"
        }
      ]
    },
    {
      "cell_type": "code",
      "metadata": {
        "colab": {
          "base_uri": "https://localhost:8080/",
          "height": 204
        },
        "id": "jgblfsPN9eVJ",
        "outputId": "cf601cd6-a87e-4c96-bdbe-0ed0ac0ede32"
      },
      "source": [
        "pd.set_option('display.max_colwidth', None)\n",
        "df.head()"
      ],
      "execution_count": 19,
      "outputs": [
        {
          "output_type": "execute_result",
          "data": {
            "text/html": [
              "<div>\n",
              "<style scoped>\n",
              "    .dataframe tbody tr th:only-of-type {\n",
              "        vertical-align: middle;\n",
              "    }\n",
              "\n",
              "    .dataframe tbody tr th {\n",
              "        vertical-align: top;\n",
              "    }\n",
              "\n",
              "    .dataframe thead th {\n",
              "        text-align: right;\n",
              "    }\n",
              "</style>\n",
              "<table border=\"1\" class=\"dataframe\">\n",
              "  <thead>\n",
              "    <tr style=\"text-align: right;\">\n",
              "      <th></th>\n",
              "      <th>airline_sentiment</th>\n",
              "      <th>text</th>\n",
              "      <th>Language</th>\n",
              "    </tr>\n",
              "  </thead>\n",
              "  <tbody>\n",
              "    <tr>\n",
              "      <th>0</th>\n",
              "      <td>neutral</td>\n",
              "      <td>@VirginAmerica What @dhepburn said.</td>\n",
              "      <td>en</td>\n",
              "    </tr>\n",
              "    <tr>\n",
              "      <th>1</th>\n",
              "      <td>positive</td>\n",
              "      <td>@VirginAmerica plus you've added commercials to the experience... tacky.</td>\n",
              "      <td>en</td>\n",
              "    </tr>\n",
              "    <tr>\n",
              "      <th>2</th>\n",
              "      <td>neutral</td>\n",
              "      <td>@VirginAmerica I didn't today... Must mean I need to take another trip!</td>\n",
              "      <td>en</td>\n",
              "    </tr>\n",
              "    <tr>\n",
              "      <th>3</th>\n",
              "      <td>negative</td>\n",
              "      <td>@VirginAmerica it's really aggressive to blast obnoxious \"entertainment\" in your guests' faces &amp; they have little recourse</td>\n",
              "      <td>en</td>\n",
              "    </tr>\n",
              "    <tr>\n",
              "      <th>4</th>\n",
              "      <td>negative</td>\n",
              "      <td>@VirginAmerica and it's a really big bad thing about it</td>\n",
              "      <td>en</td>\n",
              "    </tr>\n",
              "  </tbody>\n",
              "</table>\n",
              "</div>"
            ],
            "text/plain": [
              "  airline_sentiment  ... Language\n",
              "0           neutral  ...       en\n",
              "1          positive  ...       en\n",
              "2           neutral  ...       en\n",
              "3          negative  ...       en\n",
              "4          negative  ...       en\n",
              "\n",
              "[5 rows x 3 columns]"
            ]
          },
          "metadata": {
            "tags": []
          },
          "execution_count": 19
        }
      ]
    },
    {
      "cell_type": "code",
      "metadata": {
        "colab": {
          "base_uri": "https://localhost:8080/"
        },
        "id": "NJ0mmr-O9qtB",
        "outputId": "c529caa6-2dd9-4eb2-b591-ab9f89b3b39f"
      },
      "source": [
        "df['Language'].value_counts()"
      ],
      "execution_count": 20,
      "outputs": [
        {
          "output_type": "execute_result",
          "data": {
            "text/plain": [
              "en    14447\n",
              "fr       75\n",
              "af       28\n",
              "da       27\n",
              "it       13\n",
              "so        8\n",
              "de        6\n",
              "cy        6\n",
              "ro        5\n",
              "nl        4\n",
              "id        4\n",
              "et        3\n",
              "tr        3\n",
              "tl        2\n",
              "ca        2\n",
              "es        2\n",
              "pt        2\n",
              "no        1\n",
              "sq        1\n",
              "pl        1\n",
              "Name: Language, dtype: int64"
            ]
          },
          "metadata": {
            "tags": []
          },
          "execution_count": 20
        }
      ]
    },
    {
      "cell_type": "markdown",
      "metadata": {
        "id": "mZZbq-n290s1"
      },
      "source": [
        "Remove non-english records"
      ]
    },
    {
      "cell_type": "code",
      "metadata": {
        "id": "QQkfMvV-95aL"
      },
      "source": [
        "df=df[df['Language']=='en']"
      ],
      "execution_count": 21,
      "outputs": []
    },
    {
      "cell_type": "code",
      "metadata": {
        "colab": {
          "base_uri": "https://localhost:8080/",
          "height": 204
        },
        "id": "dSIFVfTB1xtH",
        "outputId": "5e1edbc2-5f19-4d68-fc15-a4c15de33797"
      },
      "source": [
        "# remove numbers\n",
        "def remove_numbers(text):\n",
        "    text = re.sub(r'\\d+', '', text)\n",
        "    return text\n",
        "\n",
        "df['text'] = df['text'].apply(lambda x: remove_numbers(x))\n",
        "df.head()\n"
      ],
      "execution_count": 22,
      "outputs": [
        {
          "output_type": "execute_result",
          "data": {
            "text/html": [
              "<div>\n",
              "<style scoped>\n",
              "    .dataframe tbody tr th:only-of-type {\n",
              "        vertical-align: middle;\n",
              "    }\n",
              "\n",
              "    .dataframe tbody tr th {\n",
              "        vertical-align: top;\n",
              "    }\n",
              "\n",
              "    .dataframe thead th {\n",
              "        text-align: right;\n",
              "    }\n",
              "</style>\n",
              "<table border=\"1\" class=\"dataframe\">\n",
              "  <thead>\n",
              "    <tr style=\"text-align: right;\">\n",
              "      <th></th>\n",
              "      <th>airline_sentiment</th>\n",
              "      <th>text</th>\n",
              "      <th>Language</th>\n",
              "    </tr>\n",
              "  </thead>\n",
              "  <tbody>\n",
              "    <tr>\n",
              "      <th>0</th>\n",
              "      <td>neutral</td>\n",
              "      <td>@VirginAmerica What @dhepburn said.</td>\n",
              "      <td>en</td>\n",
              "    </tr>\n",
              "    <tr>\n",
              "      <th>1</th>\n",
              "      <td>positive</td>\n",
              "      <td>@VirginAmerica plus you've added commercials to the experience... tacky.</td>\n",
              "      <td>en</td>\n",
              "    </tr>\n",
              "    <tr>\n",
              "      <th>2</th>\n",
              "      <td>neutral</td>\n",
              "      <td>@VirginAmerica I didn't today... Must mean I need to take another trip!</td>\n",
              "      <td>en</td>\n",
              "    </tr>\n",
              "    <tr>\n",
              "      <th>3</th>\n",
              "      <td>negative</td>\n",
              "      <td>@VirginAmerica it's really aggressive to blast obnoxious \"entertainment\" in your guests' faces &amp; they have little recourse</td>\n",
              "      <td>en</td>\n",
              "    </tr>\n",
              "    <tr>\n",
              "      <th>4</th>\n",
              "      <td>negative</td>\n",
              "      <td>@VirginAmerica and it's a really big bad thing about it</td>\n",
              "      <td>en</td>\n",
              "    </tr>\n",
              "  </tbody>\n",
              "</table>\n",
              "</div>"
            ],
            "text/plain": [
              "  airline_sentiment  ... Language\n",
              "0           neutral  ...       en\n",
              "1          positive  ...       en\n",
              "2           neutral  ...       en\n",
              "3          negative  ...       en\n",
              "4          negative  ...       en\n",
              "\n",
              "[5 rows x 3 columns]"
            ]
          },
          "metadata": {
            "tags": []
          },
          "execution_count": 22
        }
      ]
    },
    {
      "cell_type": "code",
      "metadata": {
        "colab": {
          "base_uri": "https://localhost:8080/",
          "height": 204
        },
        "id": "PcyEl1g36mpn",
        "outputId": "f60166cb-eba7-4ada-eded-dae0a20bac5c"
      },
      "source": [
        "# remove contractions\n",
        "def replace_contractions(text):\n",
        "    \"\"\"Replace contractions in string of text\"\"\"\n",
        "    return contractions.fix(text)\n",
        "\n",
        "df['text'] = df['text'].apply(lambda x: replace_contractions(x))\n",
        "df.head()"
      ],
      "execution_count": 23,
      "outputs": [
        {
          "output_type": "execute_result",
          "data": {
            "text/html": [
              "<div>\n",
              "<style scoped>\n",
              "    .dataframe tbody tr th:only-of-type {\n",
              "        vertical-align: middle;\n",
              "    }\n",
              "\n",
              "    .dataframe tbody tr th {\n",
              "        vertical-align: top;\n",
              "    }\n",
              "\n",
              "    .dataframe thead th {\n",
              "        text-align: right;\n",
              "    }\n",
              "</style>\n",
              "<table border=\"1\" class=\"dataframe\">\n",
              "  <thead>\n",
              "    <tr style=\"text-align: right;\">\n",
              "      <th></th>\n",
              "      <th>airline_sentiment</th>\n",
              "      <th>text</th>\n",
              "      <th>Language</th>\n",
              "    </tr>\n",
              "  </thead>\n",
              "  <tbody>\n",
              "    <tr>\n",
              "      <th>0</th>\n",
              "      <td>neutral</td>\n",
              "      <td>@VirginAmerica What @dhepburn said.</td>\n",
              "      <td>en</td>\n",
              "    </tr>\n",
              "    <tr>\n",
              "      <th>1</th>\n",
              "      <td>positive</td>\n",
              "      <td>@VirginAmerica plus you have added commercials to the experience... tacky.</td>\n",
              "      <td>en</td>\n",
              "    </tr>\n",
              "    <tr>\n",
              "      <th>2</th>\n",
              "      <td>neutral</td>\n",
              "      <td>@VirginAmerica I did not today... Must mean I need to take another trip!</td>\n",
              "      <td>en</td>\n",
              "    </tr>\n",
              "    <tr>\n",
              "      <th>3</th>\n",
              "      <td>negative</td>\n",
              "      <td>@VirginAmerica it is really aggressive to blast obnoxious \"entertainment\" in your guests' faces &amp; they have little recourse</td>\n",
              "      <td>en</td>\n",
              "    </tr>\n",
              "    <tr>\n",
              "      <th>4</th>\n",
              "      <td>negative</td>\n",
              "      <td>@VirginAmerica and it is a really big bad thing about it</td>\n",
              "      <td>en</td>\n",
              "    </tr>\n",
              "  </tbody>\n",
              "</table>\n",
              "</div>"
            ],
            "text/plain": [
              "  airline_sentiment  ... Language\n",
              "0           neutral  ...       en\n",
              "1          positive  ...       en\n",
              "2           neutral  ...       en\n",
              "3          negative  ...       en\n",
              "4          negative  ...       en\n",
              "\n",
              "[5 rows x 3 columns]"
            ]
          },
          "metadata": {
            "tags": []
          },
          "execution_count": 23
        }
      ]
    },
    {
      "cell_type": "code",
      "metadata": {
        "colab": {
          "base_uri": "https://localhost:8080/"
        },
        "id": "7SgA0VZo61K2",
        "outputId": "298f9543-5b7d-4271-a7d0-01e8c676d8bf"
      },
      "source": [
        "# remove stop words\n",
        "nltk.download('stopwords')\n",
        "eng_stops = set(stopwords.words(\"english\"))"
      ],
      "execution_count": 24,
      "outputs": [
        {
          "output_type": "stream",
          "text": [
            "[nltk_data] Downloading package stopwords to /root/nltk_data...\n",
            "[nltk_data]   Package stopwords is already up-to-date!\n"
          ],
          "name": "stdout"
        }
      ]
    },
    {
      "cell_type": "code",
      "metadata": {
        "id": "VjZLpqLJ_DgP"
      },
      "source": [
        "stopwords = stopwords.words('english')\n",
        "\n",
        "customlist = ['not', \"couldn't\", 'didn', \"didn't\", 'doesn', \"doesn't\", 'hadn', \"hadn't\", 'hasn',\n",
        "        \"hasn't\", 'haven', \"haven't\", 'isn', \"isn't\", 'ma', 'mightn', \"mightn't\", 'mustn',\n",
        "        \"mustn't\", 'needn', \"needn't\", 'shan', \"shan't\", 'shouldn', \"shouldn't\", 'wasn',\n",
        "        \"wasn't\", 'weren', \"weren't\", 'won', \"won't\", 'wouldn', \"wouldn't\"]\n",
        "\n",
        "# Set custom stop-word's list as not, couldn't etc. words matter in Sentiment, so not removing them from original data.\n",
        "\n",
        "stopwords = list(set(stopwords) - set(customlist))  "
      ],
      "execution_count": 25,
      "outputs": []
    },
    {
      "cell_type": "code",
      "metadata": {
        "colab": {
          "base_uri": "https://localhost:8080/"
        },
        "id": "j8tChx5s1yNq",
        "outputId": "12efec45-561b-4965-ca2f-858e47299ae5"
      },
      "source": [
        "# remove proper nouns\n",
        "import nltk\n",
        "nltk.download('averaged_perceptron_tagger')"
      ],
      "execution_count": 26,
      "outputs": [
        {
          "output_type": "stream",
          "text": [
            "[nltk_data] Downloading package averaged_perceptron_tagger to\n",
            "[nltk_data]     /root/nltk_data...\n",
            "[nltk_data]   Package averaged_perceptron_tagger is already up-to-\n",
            "[nltk_data]       date!\n"
          ],
          "name": "stdout"
        },
        {
          "output_type": "execute_result",
          "data": {
            "text/plain": [
              "True"
            ]
          },
          "metadata": {
            "tags": []
          },
          "execution_count": 26
        }
      ]
    },
    {
      "cell_type": "code",
      "metadata": {
        "colab": {
          "base_uri": "https://localhost:8080/",
          "height": 204
        },
        "id": "EMh_26cxJZ4O",
        "outputId": "992b1dfc-3aad-4543-8fa8-87dbd856ef6b"
      },
      "source": [
        "for i, row in df.iterrows():\n",
        "    sentence=df.at[i,'text']\n",
        "    tagged_sentence = nltk.tag.pos_tag(sentence.split())\n",
        "    edited_sentence = [word for word,tag in tagged_sentence if tag != 'NNP' and tag != 'NNPS']\n",
        "    df.at[i,'text']=(' '.join(edited_sentence))\n",
        "    \n",
        "df.head()"
      ],
      "execution_count": 27,
      "outputs": [
        {
          "output_type": "execute_result",
          "data": {
            "text/html": [
              "<div>\n",
              "<style scoped>\n",
              "    .dataframe tbody tr th:only-of-type {\n",
              "        vertical-align: middle;\n",
              "    }\n",
              "\n",
              "    .dataframe tbody tr th {\n",
              "        vertical-align: top;\n",
              "    }\n",
              "\n",
              "    .dataframe thead th {\n",
              "        text-align: right;\n",
              "    }\n",
              "</style>\n",
              "<table border=\"1\" class=\"dataframe\">\n",
              "  <thead>\n",
              "    <tr style=\"text-align: right;\">\n",
              "      <th></th>\n",
              "      <th>airline_sentiment</th>\n",
              "      <th>text</th>\n",
              "      <th>Language</th>\n",
              "    </tr>\n",
              "  </thead>\n",
              "  <tbody>\n",
              "    <tr>\n",
              "      <th>0</th>\n",
              "      <td>neutral</td>\n",
              "      <td>@VirginAmerica What said.</td>\n",
              "      <td>en</td>\n",
              "    </tr>\n",
              "    <tr>\n",
              "      <th>1</th>\n",
              "      <td>positive</td>\n",
              "      <td>@VirginAmerica plus you have added commercials to the experience... tacky.</td>\n",
              "      <td>en</td>\n",
              "    </tr>\n",
              "    <tr>\n",
              "      <th>2</th>\n",
              "      <td>neutral</td>\n",
              "      <td>@VirginAmerica I did not today... mean I need to take another trip!</td>\n",
              "      <td>en</td>\n",
              "    </tr>\n",
              "    <tr>\n",
              "      <th>3</th>\n",
              "      <td>negative</td>\n",
              "      <td>@VirginAmerica it is really aggressive to blast obnoxious \"entertainment\" in your guests' faces &amp; they have little recourse</td>\n",
              "      <td>en</td>\n",
              "    </tr>\n",
              "    <tr>\n",
              "      <th>4</th>\n",
              "      <td>negative</td>\n",
              "      <td>@VirginAmerica and it is a really big bad thing about it</td>\n",
              "      <td>en</td>\n",
              "    </tr>\n",
              "  </tbody>\n",
              "</table>\n",
              "</div>"
            ],
            "text/plain": [
              "  airline_sentiment  ... Language\n",
              "0           neutral  ...       en\n",
              "1          positive  ...       en\n",
              "2           neutral  ...       en\n",
              "3          negative  ...       en\n",
              "4          negative  ...       en\n",
              "\n",
              "[5 rows x 3 columns]"
            ]
          },
          "metadata": {
            "tags": []
          },
          "execution_count": 27
        }
      ]
    },
    {
      "cell_type": "code",
      "metadata": {
        "colab": {
          "base_uri": "https://localhost:8080/",
          "height": 221
        },
        "id": "7EXWjopoPU37",
        "outputId": "3ad84f4a-db66-4bb7-ed00-20e64736480a"
      },
      "source": [
        "# tokenization\n",
        "df['text'] = df.apply(lambda row: nltk.word_tokenize(row['text']), axis=1) \n",
        "df.head()"
      ],
      "execution_count": 28,
      "outputs": [
        {
          "output_type": "execute_result",
          "data": {
            "text/html": [
              "<div>\n",
              "<style scoped>\n",
              "    .dataframe tbody tr th:only-of-type {\n",
              "        vertical-align: middle;\n",
              "    }\n",
              "\n",
              "    .dataframe tbody tr th {\n",
              "        vertical-align: top;\n",
              "    }\n",
              "\n",
              "    .dataframe thead th {\n",
              "        text-align: right;\n",
              "    }\n",
              "</style>\n",
              "<table border=\"1\" class=\"dataframe\">\n",
              "  <thead>\n",
              "    <tr style=\"text-align: right;\">\n",
              "      <th></th>\n",
              "      <th>airline_sentiment</th>\n",
              "      <th>text</th>\n",
              "      <th>Language</th>\n",
              "    </tr>\n",
              "  </thead>\n",
              "  <tbody>\n",
              "    <tr>\n",
              "      <th>0</th>\n",
              "      <td>neutral</td>\n",
              "      <td>[@, VirginAmerica, What, said, .]</td>\n",
              "      <td>en</td>\n",
              "    </tr>\n",
              "    <tr>\n",
              "      <th>1</th>\n",
              "      <td>positive</td>\n",
              "      <td>[@, VirginAmerica, plus, you, have, added, commercials, to, the, experience, ..., tacky, .]</td>\n",
              "      <td>en</td>\n",
              "    </tr>\n",
              "    <tr>\n",
              "      <th>2</th>\n",
              "      <td>neutral</td>\n",
              "      <td>[@, VirginAmerica, I, did, not, today, ..., mean, I, need, to, take, another, trip, !]</td>\n",
              "      <td>en</td>\n",
              "    </tr>\n",
              "    <tr>\n",
              "      <th>3</th>\n",
              "      <td>negative</td>\n",
              "      <td>[@, VirginAmerica, it, is, really, aggressive, to, blast, obnoxious, ``, entertainment, '', in, your, guests, ', faces, &amp;, they, have, little, recourse]</td>\n",
              "      <td>en</td>\n",
              "    </tr>\n",
              "    <tr>\n",
              "      <th>4</th>\n",
              "      <td>negative</td>\n",
              "      <td>[@, VirginAmerica, and, it, is, a, really, big, bad, thing, about, it]</td>\n",
              "      <td>en</td>\n",
              "    </tr>\n",
              "  </tbody>\n",
              "</table>\n",
              "</div>"
            ],
            "text/plain": [
              "  airline_sentiment  ... Language\n",
              "0           neutral  ...       en\n",
              "1          positive  ...       en\n",
              "2           neutral  ...       en\n",
              "3          negative  ...       en\n",
              "4          negative  ...       en\n",
              "\n",
              "[5 rows x 3 columns]"
            ]
          },
          "metadata": {
            "tags": []
          },
          "execution_count": 28
        }
      ]
    },
    {
      "cell_type": "code",
      "metadata": {
        "colab": {
          "base_uri": "https://localhost:8080/",
          "height": 204
        },
        "id": "x_6IQeuE2E6Q",
        "outputId": "f6fbb89a-8729-477d-b29a-e523b95d3b25"
      },
      "source": [
        "# normalize: remove special chars, lower case, remove punctuation, remove stop words, lemmatize or stemming, and join the words in the list to convert back to text string in the dataframe\n",
        "lemmatizer = WordNetLemmatizer()\n",
        "\n",
        "def remove_non_ascii(words):\n",
        "    \"\"\"Remove non-ASCII characters from list of tokenized words\"\"\"\n",
        "    new_words = []\n",
        "    for word in words:\n",
        "        new_word = unicodedata.normalize('NFKD', word).encode('ascii', 'ignore').decode('utf-8', 'ignore')\n",
        "        new_words.append(new_word)\n",
        "    return new_words\n",
        "\n",
        "def to_lowercase(words):\n",
        "    \"\"\"Convert all characters to lowercase from list of tokenized words\"\"\"\n",
        "    new_words = []\n",
        "    for word in words:\n",
        "        new_word = word.lower()\n",
        "        new_words.append(new_word)\n",
        "    return new_words\n",
        "\n",
        "def remove_punctuation(words):\n",
        "    \"\"\"Remove punctuation from list of tokenized words\"\"\"\n",
        "    new_words = []\n",
        "    for word in words:\n",
        "        new_word = re.sub(r'[^\\w\\s]', '', word)\n",
        "        if new_word != '':\n",
        "            new_words.append(new_word)\n",
        "    return new_words\n",
        "\n",
        "def remove_stopwords(words):\n",
        "    \"\"\"Remove stop words from list of tokenized words\"\"\"\n",
        "    new_words = []\n",
        "    for word in words:\n",
        "        if word not in stopwords:\n",
        "            new_words.append(word)\n",
        "    return new_words\n",
        "\n",
        "def lemmatize_list(words):\n",
        "    new_words = []\n",
        "    for word in words:\n",
        "      new_words.append(lemmatizer.lemmatize(word, pos='v'))\n",
        "    return new_words\n",
        "\n",
        "def normalize(words):\n",
        "    words = remove_non_ascii(words)\n",
        "    words = to_lowercase(words)\n",
        "    words = remove_punctuation(words)\n",
        "    words = remove_stopwords(words)\n",
        "    words = lemmatize_list(words)\n",
        "    return ' '.join(words)\n",
        "\n",
        "df['text'] = df.apply(lambda row: normalize(row['text']), axis=1)\n",
        "df.head()\n"
      ],
      "execution_count": 29,
      "outputs": [
        {
          "output_type": "execute_result",
          "data": {
            "text/html": [
              "<div>\n",
              "<style scoped>\n",
              "    .dataframe tbody tr th:only-of-type {\n",
              "        vertical-align: middle;\n",
              "    }\n",
              "\n",
              "    .dataframe tbody tr th {\n",
              "        vertical-align: top;\n",
              "    }\n",
              "\n",
              "    .dataframe thead th {\n",
              "        text-align: right;\n",
              "    }\n",
              "</style>\n",
              "<table border=\"1\" class=\"dataframe\">\n",
              "  <thead>\n",
              "    <tr style=\"text-align: right;\">\n",
              "      <th></th>\n",
              "      <th>airline_sentiment</th>\n",
              "      <th>text</th>\n",
              "      <th>Language</th>\n",
              "    </tr>\n",
              "  </thead>\n",
              "  <tbody>\n",
              "    <tr>\n",
              "      <th>0</th>\n",
              "      <td>neutral</td>\n",
              "      <td>virginamerica say</td>\n",
              "      <td>en</td>\n",
              "    </tr>\n",
              "    <tr>\n",
              "      <th>1</th>\n",
              "      <td>positive</td>\n",
              "      <td>virginamerica plus add commercials experience tacky</td>\n",
              "      <td>en</td>\n",
              "    </tr>\n",
              "    <tr>\n",
              "      <th>2</th>\n",
              "      <td>neutral</td>\n",
              "      <td>virginamerica not today mean need take another trip</td>\n",
              "      <td>en</td>\n",
              "    </tr>\n",
              "    <tr>\n",
              "      <th>3</th>\n",
              "      <td>negative</td>\n",
              "      <td>virginamerica really aggressive blast obnoxious entertainment guests face little recourse</td>\n",
              "      <td>en</td>\n",
              "    </tr>\n",
              "    <tr>\n",
              "      <th>4</th>\n",
              "      <td>negative</td>\n",
              "      <td>virginamerica really big bad thing</td>\n",
              "      <td>en</td>\n",
              "    </tr>\n",
              "  </tbody>\n",
              "</table>\n",
              "</div>"
            ],
            "text/plain": [
              "  airline_sentiment  ... Language\n",
              "0           neutral  ...       en\n",
              "1          positive  ...       en\n",
              "2           neutral  ...       en\n",
              "3          negative  ...       en\n",
              "4          negative  ...       en\n",
              "\n",
              "[5 rows x 3 columns]"
            ]
          },
          "metadata": {
            "tags": []
          },
          "execution_count": 29
        }
      ]
    },
    {
      "cell_type": "code",
      "metadata": {
        "colab": {
          "base_uri": "https://localhost:8080/"
        },
        "id": "X0y3oREd2FFj",
        "outputId": "dc5a01ee-3d18-4d19-e3aa-652e0322d015"
      },
      "source": [
        "df['airline_sentiment'].value_counts()"
      ],
      "execution_count": 45,
      "outputs": [
        {
          "output_type": "execute_result",
          "data": {
            "text/plain": [
              "negative    9119\n",
              "neutral     3003\n",
              "positive    2325\n",
              "Name: airline_sentiment, dtype: int64"
            ]
          },
          "metadata": {
            "tags": []
          },
          "execution_count": 45
        }
      ]
    },
    {
      "cell_type": "code",
      "metadata": {
        "id": "V6_8w-dsS00x"
      },
      "source": [
        "def PieChart(t_df):\n",
        "    Lst = 100*t_df.value_counts()/len(t_df)\n",
        "    \n",
        "    # set data for pie chart\n",
        "    labels = t_df.value_counts().index.values\n",
        "    sizes =  Lst \n",
        "    \n",
        "    # set labels\n",
        "    fig1, ax1 = plt.subplots()\n",
        "    ax1.pie(sizes, labels=labels, autopct='%1.2f%%', shadow=True, startangle=90)\n",
        "    ax1.axis('equal')  # equal aspect ratio to ensure pie is drawn as a circle.\n",
        "    plt.show()"
      ],
      "execution_count": 47,
      "outputs": []
    },
    {
      "cell_type": "markdown",
      "metadata": {
        "id": "AVY8n-4mkotI"
      },
      "source": [
        "# Vectorize"
      ]
    },
    {
      "cell_type": "code",
      "metadata": {
        "id": "xl3hDmBlBUqI"
      },
      "source": [
        "# Vectorization via CountVectorizer (Convert text data to numbers).\n",
        "from sklearn.feature_extraction.text import CountVectorizer\n",
        "vectorizer1 = CountVectorizer(max_features=1000)                # Keep only 1000 features as number of features will increase the processing time.\n",
        "data_features1 = vectorizer1.fit_transform(df['text'])\n",
        "data_features1 = data_features1.toarray()                       # Convert the data features to array."
      ],
      "execution_count": 30,
      "outputs": []
    },
    {
      "cell_type": "code",
      "metadata": {
        "colab": {
          "base_uri": "https://localhost:8080/"
        },
        "id": "snYm_OwEBd4W",
        "outputId": "8fb5c8a6-6eb9-4ac0-b6e6-a8abfabcdeea"
      },
      "source": [
        "print(vectorizer1.vocabulary_)"
      ],
      "execution_count": 31,
      "outputs": [
        {
          "output_type": "stream",
          "text": [
            "{'virginamerica': 943, 'say': 767, 'plus': 667, 'add': 13, 'experience': 319, 'not': 595, 'today': 887, 'mean': 542, 'need': 581, 'take': 861, 'another': 51, 'trip': 904, 'really': 711, 'entertainment': 294, 'face': 326, 'little': 510, 'big': 110, 'bad': 92, 'thing': 873, 'seriously': 782, 'would': 988, 'pay': 642, 'flight': 357, 'seat': 772, 'play': 663, 'fly': 362, 'yes': 995, 'nearly': 580, 'every': 305, 'time': 883, 'go': 396, 'away': 87, 'miss': 564, 'https': 439, 'amaze': 42, 'arrive': 70, 'hour': 433, 'early': 277, 'good': 398, 'know': 481, 'second': 773, 'lead': 489, 'pretty': 682, 'much': 573, 'better': 108, 'great': 399, 'deal': 232, 'think': 875, 'nd': 578, 'even': 301, 'st': 827, 'yet': 997, 'sky': 804, 'travel': 899, 'http': 438, 'schedule': 768, 'still': 839, 'excite': 313, 'first': 351, 'cross': 217, 'country': 207, 'hear': 415, 'nothing': 598, 'things': 874, 'last': 485, 'week': 962, 'could': 204, 'sit': 801, 'due': 275, 'two': 914, 'either': 281, 'side': 795, 'awesome': 88, 'want': 951, 'fare': 335, 'three': 878, 'available': 83, 'select': 777, 'love': 522, 'feel': 342, 'make': 532, 'non': 591, 'stop': 840, 'soon': 817, 'guy': 404, 'mess': 551, 'reserve': 739, 'friends': 379, 'give': 394, 'free': 374, 'status': 833, 'match': 537, 'program': 691, 'apply': 65, 'weeks': 964, 'call': 131, 'email': 283, 'response': 743, 'happen': 410, 'ur': 929, 'food': 367, 'options': 619, 'least': 491, 'site': 802, 'able': 1, 'eat': 280, 'anything': 55, 'next': 586, 'hrs': 437, 'fail': 328, 'worry': 984, 'together': 888, 'get': 393, 'cold': 174, 'air': 26, 'middle': 553, 'hi': 420, 'cool': 201, 'birthday': 113, 'enter': 293, 'name': 577, 'hours': 434, 'post': 676, 'online': 613, 'current': 218, 'help': 417, 'leave': 492, 'expensive': 318, 'one': 611, 'answer': 52, 'number': 602, 'return': 745, 'phone': 652, 'prefer': 679, 'use': 934, 'option': 618, 'news': 585, 'start': 831, 'end': 289, 'year': 993, 'via': 940, 'takeoff': 862, 'way': 956, 'do': 266, 'airline': 28, 'around': 68, 'hand': 407, 'book': 118, 'support': 852, 'work': 982, 'beyond': 109, 'flyer': 363, 'hard': 412, 'account': 8, 'plz': 668, 'win': 971, 'upgrade': 927, 'lax': 487, 'ticket': 881, 'move': 572, 'new': 584, 'city': 158, 'expire': 320, 'reason': 712, 'rock': 750, 'wow': 989, 'mind': 559, 'night': 588, 'oscars': 623, 'suppose': 853, 'minutes': 563, 'ago': 24, 'show': 793, 'though': 877, 'wish': 974, 'th': 871, 'try': 908, 'since': 798, 'page': 629, 'never': 582, 'load': 512, 'thx': 880, 'lady': 483, 'market': 536, 'let': 496, 'us': 930, 'check': 150, 'please': 665, 'someone': 813, 'hold': 424, 'earlier': 276, 'tonight': 890, 'pm': 669, 'award': 86, 'everything': 307, 'fine': 349, 'lose': 519, 'bag': 95, 'change': 146, 'reservation': 737, 'credit': 215, 'card': 136, 'waive': 949, 'fee': 340, 'customer': 221, 'service': 784, 'team': 866, 'track': 895, 'baggage': 96, 'step': 836, 'game': 391, 'floor': 360, 'ride': 747, 'plane': 661, 'crew': 216, 'airlines': 29, 'like': 502, 'morning': 571, 'correct': 202, 'watch': 954, 'best': 107, 'different': 256, 'media': 544, 'thank': 872, 'anyway': 56, 'speak': 824, 'human': 441, 'possible': 674, 'traveler': 900, 'member': 546, 'interest': 461, 'delay': 236, 'late': 486, 'cancel': 133, 'four': 373, 'plan': 660, 'disappoint': 258, 'share': 788, 'business': 126, 'meet': 545, 'trouble': 905, 'wife': 968, 'bring': 121, 'code': 172, 'home': 425, 'back': 91, 'point': 670, 'tv': 910, 'video': 941, 'jfk': 472, 'land': 484, 'friendly': 378, 'website': 960, 'mobile': 566, 'passengers': 637, 'tell': 867, 'class': 160, 'bin': 111, 'find': 348, 'anyone': 54, 'useless': 935, 'must': 576, 'music': 575, 'direct': 257, 'layover': 488, 'fuel': 384, 'buy': 128, 'people': 643, 'line': 505, 'hang': 409, 'text': 870, 'info': 456, 'weather': 958, 'cities': 157, 'come': 175, 'phl': 650, 'already': 39, 'horrible': 431, 'concern': 188, 'helpful': 418, 'rep': 729, 'kick': 477, 'right': 749, 'bc': 101, 'run': 759, 'wait': 948, 'keep': 476, 'totally': 893, 'problem': 688, 'min': 558, 'connect': 194, 'seem': 776, 'long': 516, 'absolute': 2, 'ever': 304, 'provide': 694, 'completely': 186, 'month': 569, 'nonstop': 593, 'depart': 241, 'sfo': 787, 'customers': 222, 'process': 690, 'link': 506, 'terrible': 869, 'hotel': 432, 'sorry': 818, 'assistance': 74, 'yesterday': 996, 'dog': 267, 'longer': 517, 'advise': 17, 'drop': 274, 'always': 41, 'create': 214, 'frustrate': 382, 'extra': 324, 'luggage': 527, 'might': 555, 'hire': 422, 'world': 983, 'flt': 361, 'midnight': 554, 'staff': 828, 'super': 850, 'premium': 680, 'across': 9, 'offer': 604, 'question': 699, 'infant': 454, 'welcome': 965, 'understand': 920, 'damage': 225, 'policy': 672, 'special': 825, 'alone': 37, 'kid': 478, 'board': 117, 'purchase': 696, 'happy': 411, 'definitely': 234, 'problems': 689, 'web': 959, 'error': 297, 'contact': 198, 'minute': 562, 'reschedule': 736, 'fix': 354, 'unacceptable': 918, 'stick': 838, 'include': 451, 'look': 518, 'agent': 22, 'close': 165, 'assist': 73, 'receive': 716, 'reply': 730, 'airport': 31, 'checkin': 151, 'desk': 247, 'open': 616, 'jump': 475, 'begin': 104, 'unite': 924, 'follow': 366, 'many': 535, 'apologies': 58, 'worse': 985, 'respond': 742, 'spend': 826, 'money': 568, 'strand': 844, 'reimburse': 723, 'dm': 265, 'choice': 155, 'days': 230, 'confirmation': 192, 'claim': 159, 'tomorrow': 889, 'notification': 600, 'rebook': 713, 'gold': 397, 'lot': 520, 'sad': 761, 'stuff': 845, 'wrong': 991, 'issue': 465, 'item': 466, 'head': 414, 'americanairlines': 45, 'suck': 847, 'notice': 599, 'flightled': 359, 'expect': 317, 'high': 421, 'school': 769, 'quick': 700, 'apparently': 62, 'faster': 337, 'send': 779, 'picture': 656, 'job': 473, 'snow': 809, 'area': 67, 'afternoon': 20, 'mention': 548, 'mechanical': 543, 'drink': 272, 'twitter': 913, 'kill': 479, 'charge': 148, 'refuse': 721, 'refund': 720, 'access': 6, 'iphone': 464, 'click': 164, 'break': 120, 'forward': 372, 'along': 38, 'put': 698, 'report': 731, 'center': 144, 'bite': 114, 'attendant': 76, 'base': 99, 'something': 814, 'departure': 243, 'sound': 820, 'fun': 386, 'update': 926, 'count': 205, 'luv': 528, 'continue': 199, 'sort': 819, 'route': 754, 'gate': 392, 'ice': 443, 'coffee': 173, 'passenger': 636, 'trust': 907, 'file': 344, 'destination': 249, 'easy': 279, 'itinerary': 468, 'see': 775, 'become': 103, 'pilot': 657, 'event': 302, 'entire': 295, 'improve': 450, 'request': 734, 'window': 972, 'confirm': 191, 'treat': 902, 'frequent': 376, 'inconvenience': 453, 'full': 385, 'place': 659, 'result': 744, 'instead': 460, 'advantage': 16, 'inflight': 455, 'cabin': 130, 'behind': 105, 'row': 755, 'suitcase': 849, 'past': 638, 'order': 621, 'husband': 442, 'screen': 770, 'light': 501, 'story': 842, 'wonder': 979, 'despite': 248, 'dca': 231, 'safety': 764, 'day': 229, 'rout': 753, 'hope': 429, 'probably': 687, 'save': 765, 'standby': 830, 'absolutely': 3, 'ready': 708, 'manage': 534, 'treatment': 903, 'old': 609, 'battle': 100, 'may': 539, 'less': 495, 'half': 406, 'price': 684, 'round': 752, 'sell': 778, 'promise': 692, 'resolution': 740, 'care': 137, 'lovely': 523, 'view': 942, 'mileage': 556, 'several': 786, 'ball': 97, 'americanair': 44, 'glad': 395, 'years': 994, 'earn': 278, 'couple': 208, 'message': 552, 'avail': 82, 'hop': 428, 'force': 368, 'small': 807, 'carry': 138, 'empty': 288, 'space': 823, 'slow': 806, 'representative': 732, 'solution': 811, 'loyal': 525, 'well': 966, 'rd': 705, 'partner': 632, 'southwest': 821, 'pls': 666, 'course': 209, 'family': 331, 'ok': 607, 'receipt': 715, 'ones': 612, 'currently': 219, 'pick': 655, 'tweet': 911, 'rental': 728, 'car': 135, 'cust': 220, 'child': 153, 'chance': 145, 'joke': 474, 'bank': 98, 'also': 40, 'bday': 102, 'stewardess': 837, 'tix': 885, 'yr': 998, 'submit': 846, 'low': 524, 'cost': 203, 'pull': 695, 'computer': 187, 'announce': 48, 'deserve': 246, 'address': 15, 'exist': 315, 'app': 61, 'favorite': 339, 'set': 785, 'passbook': 635, 'waste': 953, 'system': 858, 'accept': 4, 'likely': 503, 'learn': 490, 'avgeek': 84, 'forget': 370, 'future': 390, 'poor': 673, 'southwestair': 822, 'excellent': 311, 'additional': 14, 'items': 467, 'carryon': 139, 'group': 401, 'room': 751, 'nightmare': 589, 'sure': 854, 'shit': 789, 'club': 168, 'bump': 124, 'perfect': 645, 'stay': 834, 'raise': 702, 'man': 533, 'saw': 766, 'part': 631, 'whole': 967, 'short': 792, 'wifi': 969, 'overhead': 627, 'person': 647, 'ask': 71, 'luck': 526, 'accommodate': 7, 'lol': 515, 'others': 624, 'actual': 11, 'travelers': 901, 'affect': 19, 'storm': 841, 'shock': 790, 'complete': 185, 'drive': 273, 'nyc': 603, 'cut': 224, 'philly': 649, 'without': 976, 'months': 570, 'reps': 733, 'sign': 796, 'folks': 365, 'regard': 722, 'actually': 12, 'word': 981, 'resolve': 741, 'lack': 482, 'deice': 235, 'fill': 345, 'connections': 196, 'international': 462, 'mins': 561, 'wo': 977, 'serious': 781, 'hook': 427, 'domestic': 269, 'worst': 986, 'auto': 79, 'transfer': 898, 'security': 774, 'case': 140, 'wonderful': 980, 'voucher': 946, 'mail': 529, 'company': 179, 'maybe': 540, 'pass': 634, 'son': 816, 'total': 892, 'explain': 321, 'talk': 863, 'almost': 36, 'ppl': 678, 'daughter': 228, 'anymore': 53, 'platinum': 662, 'badcustomerservice': 93, 'agents': 23, 'rude': 756, 'nice': 587, 'overnight': 628, 'hr': 436, 'detail': 251, 'ignore': 445, 'touch': 894, 'guess': 403, 'form': 371, 'vouchers': 947, 'anywhere': 57, 'grind': 400, 'else': 282, 'appreciate': 66, 'tarmac': 864, 'outside': 625, 'rule': 758, 'enough': 292, 'handle': 408, 'train': 897, 'mistake': 565, 'avoid': 85, 'supervisor': 851, 'announcement': 49, 'require': 735, 'thru': 879, 'dept': 245, 'will': 970, 'connection': 195, 'upset': 928, 'employees': 287, 'equipment': 296, 'intl': 463, 'mom': 567, 'emergency': 285, 'complain': 182, 'coach': 170, 'bird': 112, 'ahead': 25, 'control': 200, 'rather': 704, 'delta': 239, 'attendants': 77, 'unhelpful': 923, 'bother': 119, 'attempt': 75, 'believe': 106, 'stand': 829, 'record': 717, 'read': 707, 'everyone': 306, 'switch': 857, 'aircraft': 27, 'crash': 212, 'winter': 973, 'coat': 171, 'reach': 706, 'honor': 426, 'ua': 916, 'pathetic': 639, 'customerservice': 223, 'ways': 957, 'life': 500, 'mine': 560, 'apology': 60, 'enjoy': 291, 'zero': 999, 'excuse': 314, 'cause': 143, 'members': 547, 'ewr': 308, 'weekend': 963, 'yeah': 992, 'listen': 508, 'character': 147, 'limit': 504, 'appear': 63, 'unhappy': 922, 'complaint': 183, 'jet': 469, 'fund': 387, 'matter': 538, 'prepare': 681, 'worth': 987, 'airports': 32, 'conf': 190, 'communication': 177, 'far': 334, 'note': 596, 'top': 891, 'unitedairlines': 925, 'usually': 936, 'ontime': 614, 'advisory': 18, 'remember': 726, 'turn': 909, 'extremely': 325, 'real': 709, 'clothe': 166, 'leg': 493, 'lounge': 521, 'onto': 615, 'impossible': 448, 'terminal': 868, 'arrival': 69, 'information': 458, 'vacation': 937, 'nope': 594, 'sleep': 805, 'ruin': 757, 'compensation': 181, 'original': 622, 'deliver': 237, 'delivery': 238, 'write': 990, 'employee': 286, 'blame': 115, 'previous': 683, 'okay': 608, 'feedback': 341, 'tire': 884, 'solve': 812, 'comment': 176, 'idea': 444, 'neveragain': 583, 'within': 975, 'figure': 343, 'screw': 771, 'counter': 206, 'nobody': 590, 'unfortunately': 921, 'finally': 347, 'annoy': 50, 'front': 381, 'fact': 327, 'walk': 950, 'consider': 197, 'unable': 917, 'courtesy': 210, 'diff': 254, 'tag': 860, 'impress': 449, 'incompetence': 452, 'ridiculous': 748, 'disaster': 259, 'fleet': 356, 'serve': 783, 'major': 531, 'situation': 803, 'clue': 169, 'literally': 509, 'list': 507, 'inside': 459, 'final': 346, 'vegas': 939, 'failure': 329, 'airplane': 30, 'however': 435, 'chicago': 152, 'clear': 162, 'shoot': 791, 'lie': 499, 'date': 227, 'catch': 141, 'fair': 330, 'reservations': 738, 'captain': 134, 'office': 605, 'photo': 653, 'damn': 226, 'divert': 263, 'tho': 876, 'frm': 380, 'reflight': 719, 'example': 310, 'quickly': 701, 'single': 799, 'miles': 557, 'steal': 835, 'overbooked': 626, 'fit': 352, 'deny': 240, 'exactly': 309, 'etc': 300, 'fuck': 383, 'awful': 89, 'power': 677, 'multiple': 574, 'angry': 47, 'merger': 550, 'flyers': 364, 'state': 832, 'maintenance': 530, 'personal': 648, 'level': 498, 'sick': 794, 'prompt': 693, 'friend': 377, 'priority': 686, 'american': 43, 'choose': 156, 'difference': 255, 'age': 21, 'allow': 35, 'woman': 978, 'twice': 912, 'redeem': 718, 'rebooked': 714, 'assign': 72, 'sense': 780, 'hate': 413, 'badservice': 94, 'hopefully': 430, 'complaints': 184, 'hell': 416, 'onboard': 610, 'usairways': 932, 'usairwaysfail': 933, 'oh': 606, 'suggest': 848, 'freeze': 375, 'dollars': 268, 'door': 270, 'piss': 658, 'engine': 290, 'confuse': 193, 'deplane': 244, 'extend': 323, 'baby': 90, 'crazy': 213, 'clean': 161, 'print': 685, 'policies': 671, 'jetway': 471, 'operate': 617, 'till': 882, 'huge': 440, 'fan': 332, 'double': 271, 'svc': 856, 'visit': 944, 'fault': 338, 'funny': 389, 'pleasant': 664, 'brother': 122, 'surprise': 855, 'patience': 640, 'bus': 125, 'compensate': 180, 'hit': 423, 'value': 938, 'fast': 336, 'attitude': 78, 'park': 630, 'ord': 620, 'cover': 211, 'taxi': 865, 'locate': 513, 'disconnect': 260, 'none': 592, 'act': 10, 'important': 447, 'except': 312, 'explanation': 322, 'cab': 129, 'cheap': 149, 'realize': 710, 'log': 514, 'disgust': 262, 'social': 810, 'possibly': 675, 'runway': 760, 'near': 579, 'true': 906, 'live': 511, 'push': 697, 'five': 353, 'safe': 762, 'automatically': 81, 'cater': 142, 'busy': 127, 'rent': 727, 'notify': 601, 'discount': 261, 'funeral': 388, 'safely': 763, 'perhaps': 646, 'btw': 123, 'condition': 189, 'guarantee': 402, 'acceptable': 5, 'relations': 725, 'sister': 800, 'hey': 419, 'especially': 298, 'amount': 46, 'decide': 233, 'children': 154, 'callback': 132, 'water': 955, 'legroom': 494, 'finger': 350, 'tmrw': 886, 'rate': 703, 'merge': 549, 'eventually': 303, 'traffic': 896, 'exit': 316, 'die': 253, 'kind': 480, 'meal': 541, 'flightlations': 358, 'unbelievable': 919, 'nothappy': 597, 'relate': 724, 'party': 633, 'wed': 961, 'forever': 369, 'per': 644, 'clearly': 163, 'department': 242, 'type': 915, 'volume': 945, 'patient': 641, 'embarrass': 284, 'snack': 808, 'automate': 80, 'companion': 178, 'haha': 405, 'fantastic': 333, 'alert': 34, 'straight': 843, 'estimate': 299, 'dfw': 252, 'systems': 859, 'somewhere': 815, 'letter': 497, 'reward': 746, 'inform': 457, 'warm': 952, 'apologize': 59, 'simply': 797, 'phx': 654, 'jetblue': 470, 'destinationdragons': 250, 'imaginedragons': 446, 'aa': 0, 'blue': 116, 'fleek': 355, 'appease': 64, 'airways': 33, 'usair': 931, 'dividend': 264, 'clt': 167, 'phlairport': 651}\n"
          ],
          "name": "stdout"
        }
      ]
    },
    {
      "cell_type": "code",
      "metadata": {
        "colab": {
          "base_uri": "https://localhost:8080/"
        },
        "id": "SaaazuzbBoQ0",
        "outputId": "1d990eed-e3a3-4815-b83b-3978bcfbac0c"
      },
      "source": [
        "data_features1.shape"
      ],
      "execution_count": 32,
      "outputs": [
        {
          "output_type": "execute_result",
          "data": {
            "text/plain": [
              "(14447, 1000)"
            ]
          },
          "metadata": {
            "tags": []
          },
          "execution_count": 32
        }
      ]
    },
    {
      "cell_type": "code",
      "metadata": {
        "colab": {
          "base_uri": "https://localhost:8080/"
        },
        "id": "IpuOaxTrBobi",
        "outputId": "fe6d06e8-5958-47ea-9131-af370567b784"
      },
      "source": [
        "data_features1"
      ],
      "execution_count": 33,
      "outputs": [
        {
          "output_type": "execute_result",
          "data": {
            "text/plain": [
              "array([[0, 0, 0, ..., 0, 0, 0],\n",
              "       [0, 0, 0, ..., 0, 0, 0],\n",
              "       [0, 0, 0, ..., 0, 0, 0],\n",
              "       ...,\n",
              "       [0, 0, 0, ..., 0, 0, 0],\n",
              "       [0, 0, 0, ..., 0, 0, 0],\n",
              "       [0, 0, 0, ..., 0, 0, 0]])"
            ]
          },
          "metadata": {
            "tags": []
          },
          "execution_count": 33
        }
      ]
    },
    {
      "cell_type": "code",
      "metadata": {
        "colab": {
          "base_uri": "https://localhost:8080/",
          "height": 204
        },
        "id": "odYgSEQvEDxV",
        "outputId": "07bbcc36-69d7-4078-85df-b9341bf14020"
      },
      "source": [
        "df.head()"
      ],
      "execution_count": 34,
      "outputs": [
        {
          "output_type": "execute_result",
          "data": {
            "text/html": [
              "<div>\n",
              "<style scoped>\n",
              "    .dataframe tbody tr th:only-of-type {\n",
              "        vertical-align: middle;\n",
              "    }\n",
              "\n",
              "    .dataframe tbody tr th {\n",
              "        vertical-align: top;\n",
              "    }\n",
              "\n",
              "    .dataframe thead th {\n",
              "        text-align: right;\n",
              "    }\n",
              "</style>\n",
              "<table border=\"1\" class=\"dataframe\">\n",
              "  <thead>\n",
              "    <tr style=\"text-align: right;\">\n",
              "      <th></th>\n",
              "      <th>airline_sentiment</th>\n",
              "      <th>text</th>\n",
              "      <th>Language</th>\n",
              "    </tr>\n",
              "  </thead>\n",
              "  <tbody>\n",
              "    <tr>\n",
              "      <th>0</th>\n",
              "      <td>neutral</td>\n",
              "      <td>virginamerica say</td>\n",
              "      <td>en</td>\n",
              "    </tr>\n",
              "    <tr>\n",
              "      <th>1</th>\n",
              "      <td>positive</td>\n",
              "      <td>virginamerica plus add commercials experience tacky</td>\n",
              "      <td>en</td>\n",
              "    </tr>\n",
              "    <tr>\n",
              "      <th>2</th>\n",
              "      <td>neutral</td>\n",
              "      <td>virginamerica not today mean need take another trip</td>\n",
              "      <td>en</td>\n",
              "    </tr>\n",
              "    <tr>\n",
              "      <th>3</th>\n",
              "      <td>negative</td>\n",
              "      <td>virginamerica really aggressive blast obnoxious entertainment guests face little recourse</td>\n",
              "      <td>en</td>\n",
              "    </tr>\n",
              "    <tr>\n",
              "      <th>4</th>\n",
              "      <td>negative</td>\n",
              "      <td>virginamerica really big bad thing</td>\n",
              "      <td>en</td>\n",
              "    </tr>\n",
              "  </tbody>\n",
              "</table>\n",
              "</div>"
            ],
            "text/plain": [
              "  airline_sentiment  ... Language\n",
              "0           neutral  ...       en\n",
              "1          positive  ...       en\n",
              "2           neutral  ...       en\n",
              "3          negative  ...       en\n",
              "4          negative  ...       en\n",
              "\n",
              "[5 rows x 3 columns]"
            ]
          },
          "metadata": {
            "tags": []
          },
          "execution_count": 34
        }
      ]
    },
    {
      "cell_type": "code",
      "metadata": {
        "id": "w7_cbbDwBybd"
      },
      "source": [
        "labels1 = df['airline_sentiment']\n",
        "#labels = labels.astype('int')"
      ],
      "execution_count": 35,
      "outputs": []
    },
    {
      "cell_type": "code",
      "metadata": {
        "id": "V8KAw5BVQQA6"
      },
      "source": [
        "# Vectorization via TfidfVectorizer for bag of words model\n",
        "#vectorizer2 = TfidfVectorizer()\n",
        "#train_tfidf_model = vectorizer2.fit_transform(train_tweets)\n",
        "#test_tfidf_model = vectorizer2.transform(test_tweets)"
      ],
      "execution_count": 36,
      "outputs": []
    },
    {
      "cell_type": "code",
      "metadata": {
        "colab": {
          "base_uri": "https://localhost:8080/"
        },
        "id": "nJBF1HzfRlPM",
        "outputId": "ded096f0-ddc5-40f1-a273-2dfbe4d5ee70"
      },
      "source": [
        "# Vectorization via TfidfVectorizer for bag of words model\n",
        "vectorizer2 = TfidfVectorizer()\n",
        "data_features2 = vectorizer2.fit_transform(df['text'])\n",
        "data_features2 = data_features2.toarray()\n",
        "data_features2.shape"
      ],
      "execution_count": 37,
      "outputs": [
        {
          "output_type": "execute_result",
          "data": {
            "text/plain": [
              "(14447, 9881)"
            ]
          },
          "metadata": {
            "tags": []
          },
          "execution_count": 37
        }
      ]
    },
    {
      "cell_type": "code",
      "metadata": {
        "colab": {
          "base_uri": "https://localhost:8080/"
        },
        "id": "xoVS7PeEUCh5",
        "outputId": "b973a80e-eb79-498b-8b59-41decc1616c1"
      },
      "source": [
        "data_features2"
      ],
      "execution_count": 49,
      "outputs": [
        {
          "output_type": "execute_result",
          "data": {
            "text/plain": [
              "array([[0., 0., 0., ..., 0., 0., 0.],\n",
              "       [0., 0., 0., ..., 0., 0., 0.],\n",
              "       [0., 0., 0., ..., 0., 0., 0.],\n",
              "       ...,\n",
              "       [0., 0., 0., ..., 0., 0., 0.],\n",
              "       [0., 0., 0., ..., 0., 0., 0.],\n",
              "       [0., 0., 0., ..., 0., 0., 0.]])"
            ]
          },
          "metadata": {
            "tags": []
          },
          "execution_count": 49
        }
      ]
    },
    {
      "cell_type": "markdown",
      "metadata": {
        "id": "mKg7MkckSgvD"
      },
      "source": [
        "# Fit and evaluate model using both types of vectorization"
      ]
    },
    {
      "cell_type": "markdown",
      "metadata": {
        "id": "j_YpMswDStNQ"
      },
      "source": [
        "## Model with CountVectorizer"
      ]
    },
    {
      "cell_type": "code",
      "metadata": {
        "id": "1t2altejS7bY"
      },
      "source": [
        "from sklearn.model_selection import train_test_split\n",
        "X_train, X_test, y_train, y_test = train_test_split(data_features1, labels1, test_size=0.3, random_state=42)"
      ],
      "execution_count": 38,
      "outputs": []
    },
    {
      "cell_type": "code",
      "metadata": {
        "colab": {
          "base_uri": "https://localhost:8080/"
        },
        "id": "y00sflmsS7jt",
        "outputId": "941cbe1f-417c-4bf9-8711-31096216934d"
      },
      "source": [
        "# Using Random Forest to build model for the classification of reviews.\n",
        "# Also calculating the cross validation score.\n",
        "\n",
        "from sklearn.ensemble import RandomForestClassifier\n",
        "from sklearn.model_selection import cross_val_score\n",
        "\n",
        "forest1 = RandomForestClassifier(n_estimators=10, n_jobs=4)\n",
        "forest1 = forest1.fit(X_train, y_train)\n",
        "print(forest1)\n",
        "print(np.mean(cross_val_score(forest1, data_features1, labels1, cv=10)))"
      ],
      "execution_count": 39,
      "outputs": [
        {
          "output_type": "stream",
          "text": [
            "RandomForestClassifier(bootstrap=True, ccp_alpha=0.0, class_weight=None,\n",
            "                       criterion='gini', max_depth=None, max_features='auto',\n",
            "                       max_leaf_nodes=None, max_samples=None,\n",
            "                       min_impurity_decrease=0.0, min_impurity_split=None,\n",
            "                       min_samples_leaf=1, min_samples_split=2,\n",
            "                       min_weight_fraction_leaf=0.0, n_estimators=10, n_jobs=4,\n",
            "                       oob_score=False, random_state=None, verbose=0,\n",
            "                       warm_start=False)\n",
            "0.6876175368306032\n"
          ],
          "name": "stdout"
        }
      ]
    },
    {
      "cell_type": "code",
      "metadata": {
        "id": "pdI8ZPLiVjdR"
      },
      "source": [
        "# Predict the result for test data using the model built above.\n",
        "\n",
        "result1 = forest1.predict(X_test)"
      ],
      "execution_count": 40,
      "outputs": []
    },
    {
      "cell_type": "code",
      "metadata": {
        "colab": {
          "base_uri": "https://localhost:8080/",
          "height": 496
        },
        "id": "O81L82YCVtiu",
        "outputId": "787513f4-b75e-48d6-d3c0-d2889ae5cc01"
      },
      "source": [
        "# Print and plot Confusion matirx to get an idea of how the distribution of the prediction is, among all the classes.\n",
        "\n",
        "from sklearn.metrics import confusion_matrix\n",
        "conf_mat = confusion_matrix(y_test, result1)\n",
        "print(conf_mat)\n",
        "\n",
        "df_cm = pd.DataFrame(conf_mat, index = [i for i in [\"negative\", \"neutral\",\"positive\"]],\n",
        "                  columns = [i for i in [\"negative\", \"neutral\",\"positive\"]])\n",
        "plt.figure(figsize = (10,7))\n",
        "sns.heatmap(df_cm, annot=True, fmt='g')"
      ],
      "execution_count": 44,
      "outputs": [
        {
          "output_type": "stream",
          "text": [
            "[[2334  233  123]\n",
            " [ 395  421  107]\n",
            " [ 208  175  339]]\n"
          ],
          "name": "stdout"
        },
        {
          "output_type": "execute_result",
          "data": {
            "text/plain": [
              "<matplotlib.axes._subplots.AxesSubplot at 0x7f4639022748>"
            ]
          },
          "metadata": {
            "tags": []
          },
          "execution_count": 44
        },
        {
          "output_type": "display_data",
          "data": {
            "image/png": "[encoded data removed]",
            "text/plain": [
              "<Figure size 720x504 with 2 Axes>"
            ]
          },
          "metadata": {
            "tags": [],
            "needs_background": "light"
          }
        }
      ]
    },
    {
      "cell_type": "markdown",
      "metadata": {
        "id": "slYN7dIFS2vY"
      },
      "source": [
        "## Model with TfidfVectorizer"
      ]
    },
    {
      "cell_type": "code",
      "metadata": {
        "colab": {
          "base_uri": "https://localhost:8080/"
        },
        "id": "R_BGA2bzS89o",
        "outputId": "b9cf6395-76a1-4f36-baea-823c0f9b62eb"
      },
      "source": [
        "# Using Random Forest to build model for the classification of reviews.\n",
        "# Also calculating the cross validation score.\n",
        "\n",
        "from sklearn.ensemble import RandomForestClassifier\n",
        "from sklearn.model_selection import cross_val_score\n",
        "\n",
        "forest2 = RandomForestClassifier(n_estimators=10, n_jobs=4)\n",
        "forest2 = forest2.fit(X_train, y_train)\n",
        "print(forest2)\n",
        "print(np.mean(cross_val_score(forest2, data_features2, labels1, cv=10)))"
      ],
      "execution_count": 51,
      "outputs": [
        {
          "output_type": "stream",
          "text": [
            "RandomForestClassifier(bootstrap=True, ccp_alpha=0.0, class_weight=None,\n",
            "                       criterion='gini', max_depth=None, max_features='auto',\n",
            "                       max_leaf_nodes=None, max_samples=None,\n",
            "                       min_impurity_decrease=0.0, min_impurity_split=None,\n",
            "                       min_samples_leaf=1, min_samples_split=2,\n",
            "                       min_weight_fraction_leaf=0.0, n_estimators=10, n_jobs=4,\n",
            "                       oob_score=False, random_state=None, verbose=0,\n",
            "                       warm_start=False)\n",
            "0.7004907552070854\n"
          ],
          "name": "stdout"
        }
      ]
    },
    {
      "cell_type": "code",
      "metadata": {
        "id": "_J5ylLDDS9If"
      },
      "source": [
        "result2 = forest2.predict(X_test)"
      ],
      "execution_count": 52,
      "outputs": []
    },
    {
      "cell_type": "code",
      "metadata": {
        "colab": {
          "base_uri": "https://localhost:8080/",
          "height": 445
        },
        "id": "wpouz5_GSlBa",
        "outputId": "6ab1e3c8-27b6-4e6e-edf6-868dd510e3ff"
      },
      "source": [
        "import matplotlib.pyplot as plt\n",
        "import seaborn as sns\n",
        "from sklearn.metrics import confusion_matrix\n",
        "\n",
        "conf_mat = confusion_matrix(y_test, result2)\n",
        "df_cm = pd.DataFrame(conf_mat, index = [i for i in [\"negative\", \"neutral\",\"positive\"]],\n",
        "                  columns = [i for i in [\"negative\", \"neutral\",\"positive\"]])\n",
        "plt.figure(figsize = (10,7))\n",
        "sns.heatmap(df_cm, annot=True, fmt='g')"
      ],
      "execution_count": 54,
      "outputs": [
        {
          "output_type": "execute_result",
          "data": {
            "text/plain": [
              "<matplotlib.axes._subplots.AxesSubplot at 0x7f464ff24908>"
            ]
          },
          "metadata": {
            "tags": []
          },
          "execution_count": 54
        },
        {
          "output_type": "display_data",
          "data": {
            "image/png": "[encoded data removed]",
            "text/plain": [
              "<Figure size 720x504 with 2 Axes>"
            ]
          },
          "metadata": {
            "tags": [],
            "needs_background": "light"
          }
        }
      ]
    },
    {
      "cell_type": "markdown",
      "metadata": {
        "id": "w5ZBW_14VVBd"
      },
      "source": [
        "# Summary"
      ]
    },
    {
      "cell_type": "markdown",
      "metadata": {
        "id": "PZpLMJo6VYjL"
      },
      "source": [
        "Applying TfidfVectorizer results in better accuracy than applying CountVectorizer.\n"
      ]
    },
    {
      "cell_type": "markdown",
      "metadata": {
        "id": "bPoJzKMNVX2u"
      },
      "source": [
        ""
      ]
    }
  ]
}